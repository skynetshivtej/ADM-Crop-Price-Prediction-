{
 "cells": [
  {
   "cell_type": "code",
   "execution_count": 78,
   "metadata": {
    "collapsed": true
   },
   "outputs": [],
   "source": [
    "import pyodbc \n",
    "import pandas as pd\n",
    "import re"
   ]
  },
  {
   "cell_type": "code",
   "execution_count": 79,
   "metadata": {
    "collapsed": true
   },
   "outputs": [],
   "source": [
    "conn = pyodbc.connect('Driver={SQL Server};'  'Server=DESKTOP-74QIRVG;' 'Database=GenesysCore;' 'Trusted_Connection=yes;') "
   ]
  },
  {
   "cell_type": "code",
   "execution_count": 80,
   "metadata": {
    "collapsed": true
   },
   "outputs": [],
   "source": [
    "tables=pd.read_sql_query('SELECT Name,LastName,FirstName,BusinessPhone FROM Contacts',conn) "
   ]
  },
  {
   "cell_type": "code",
   "execution_count": 81,
   "metadata": {
    "collapsed": true
   },
   "outputs": [],
   "source": [
    "Name = tables['Name'].to_string() \n",
    "LastName= tables['LastName'].to_string() \n",
    "FirstName = tables['FirstName'].to_string() \n",
    "Phone = tables['BusinessPhone'].to_string() \n",
    "newphone= tables['BusinessPhone'].str[-10:]"
   ]
  },
  {
   "cell_type": "code",
   "execution_count": 82,
   "metadata": {
    "collapsed": true
   },
   "outputs": [],
   "source": [
    "tables['BusinessPhone']=tables['BusinessPhone'].str.replace('^(-|\\+)353','').astype(str)\n",
    "tables['BusinessPhone']=tables['BusinessPhone'].str.replace('^00','').astype(str)"
   ]
  },
  {
   "cell_type": "code",
   "execution_count": 83,
   "metadata": {},
   "outputs": [
    {
     "data": {
      "text/html": [
       "<div>\n",
       "<table border=\"1\" class=\"dataframe\">\n",
       "  <thead>\n",
       "    <tr style=\"text-align: right;\">\n",
       "      <th></th>\n",
       "      <th>Name</th>\n",
       "      <th>LastName</th>\n",
       "      <th>FirstName</th>\n",
       "      <th>BusinessPhone</th>\n",
       "    </tr>\n",
       "  </thead>\n",
       "  <tbody>\n",
       "    <tr>\n",
       "      <th>0</th>\n",
       "      <td>I.T TOPAZ</td>\n",
       "      <td>Helpdesk</td>\n",
       "      <td>I.T TOPAZ</td>\n",
       "      <td>12028787</td>\n",
       "    </tr>\n",
       "    <tr>\n",
       "      <th>1</th>\n",
       "      <td>Complaints ROI</td>\n",
       "      <td>Middleton</td>\n",
       "      <td>Stephen</td>\n",
       "      <td>873516601</td>\n",
       "    </tr>\n",
       "    <tr>\n",
       "      <th>2</th>\n",
       "      <td>Complaints NI</td>\n",
       "      <td>Manger</td>\n",
       "      <td>Steve</td>\n",
       "      <td>447774554360</td>\n",
       "    </tr>\n",
       "    <tr>\n",
       "      <th>3</th>\n",
       "      <td>Finance Escalations NI</td>\n",
       "      <td>O'Flaherty</td>\n",
       "      <td>Cian</td>\n",
       "      <td>12028808</td>\n",
       "    </tr>\n",
       "    <tr>\n",
       "      <th>4</th>\n",
       "      <td>Finance Escalations ROI</td>\n",
       "      <td>Kearney</td>\n",
       "      <td>Colette</td>\n",
       "      <td>12028765</td>\n",
       "    </tr>\n",
       "    <tr>\n",
       "      <th>5</th>\n",
       "      <td>Transport/Delivery Escalation</td>\n",
       "      <td>McLoughlin</td>\n",
       "      <td>Charlie</td>\n",
       "      <td>442890553808</td>\n",
       "    </tr>\n",
       "    <tr>\n",
       "      <th>6</th>\n",
       "      <td>Transport/Delivery Escalation</td>\n",
       "      <td>Black</td>\n",
       "      <td>Seamus</td>\n",
       "      <td>447917895887</td>\n",
       "    </tr>\n",
       "    <tr>\n",
       "      <th>7</th>\n",
       "      <td>Transport/Delivery Escalation</td>\n",
       "      <td>Bailie</td>\n",
       "      <td>Terry</td>\n",
       "      <td>442890553811</td>\n",
       "    </tr>\n",
       "    <tr>\n",
       "      <th>8</th>\n",
       "      <td>Commercial Escalation/Complaints ROI</td>\n",
       "      <td>Smith</td>\n",
       "      <td>Caroline</td>\n",
       "      <td>469099611</td>\n",
       "    </tr>\n",
       "    <tr>\n",
       "      <th>9</th>\n",
       "      <td>Commercial Escalation/Complaints NI</td>\n",
       "      <td>Chesney</td>\n",
       "      <td>Mark</td>\n",
       "      <td>442891812608</td>\n",
       "    </tr>\n",
       "  </tbody>\n",
       "</table>\n",
       "</div>"
      ],
      "text/plain": [
       "                                   Name    LastName  FirstName BusinessPhone\n",
       "0                             I.T TOPAZ    Helpdesk  I.T TOPAZ      12028787\n",
       "1                        Complaints ROI   Middleton    Stephen     873516601\n",
       "2                         Complaints NI      Manger      Steve  447774554360\n",
       "3                Finance Escalations NI  O'Flaherty      Cian       12028808\n",
       "4               Finance Escalations ROI     Kearney    Colette      12028765\n",
       "5         Transport/Delivery Escalation  McLoughlin    Charlie  442890553808\n",
       "6         Transport/Delivery Escalation       Black     Seamus  447917895887\n",
       "7         Transport/Delivery Escalation      Bailie      Terry  442890553811\n",
       "8  Commercial Escalation/Complaints ROI       Smith   Caroline     469099611\n",
       "9   Commercial Escalation/Complaints NI     Chesney       Mark  442891812608"
      ]
     },
     "execution_count": 83,
     "metadata": {},
     "output_type": "execute_result"
    }
   ],
   "source": [
    "tables.head(10)"
   ]
  },
  {
   "cell_type": "code",
   "execution_count": 84,
   "metadata": {
    "collapsed": true
   },
   "outputs": [],
   "source": [
    "cursor = conn.cursor()"
   ]
  },
  {
   "cell_type": "code",
   "execution_count": 85,
   "metadata": {},
   "outputs": [
    {
     "data": {
      "text/plain": [
       "<pyodbc.Cursor at 0x1e55dca9c30>"
      ]
     },
     "execution_count": 85,
     "metadata": {},
     "output_type": "execute_result"
    }
   ],
   "source": [
    "cursor.execute('CREATE TABLE GenesysCore.dbo.NEWDEMO (Name varchar(230), LastName varchar(200), FirstName varchar(200), BusinessPhone nvarchar(50))')"
   ]
  },
  {
   "cell_type": "code",
   "execution_count": 86,
   "metadata": {},
   "outputs": [],
   "source": [
    "for index,row in tables.iterrows():\n",
    "    cursor.execute(\"INSERT INTO GenesysCore.dbo.NEWDEMO([Name],[LastName],[FirstName],[BusinessPhone]) values (?, ?,?,?)\", row['Name'], row['LastName'] , row['FirstName'],row['BusinessPhone']) \n",
    "    conn.commit()\n"
   ]
  },
  {
   "cell_type": "code",
   "execution_count": 87,
   "metadata": {},
   "outputs": [],
   "source": [
    "cursor.close()\n",
    "conn.close()"
   ]
  },
  {
   "cell_type": "code",
   "execution_count": 88,
   "metadata": {},
   "outputs": [
    {
     "data": {
      "text/plain": [
       "'C:\\\\Program Files\\\\Microsoft SQL Server\\\\MSSQL14.MSSQLSERVER\\\\PYTHON_SERVICES'"
      ]
     },
     "execution_count": 88,
     "metadata": {},
     "output_type": "execute_result"
    }
   ],
   "source": [
    "pwd()"
   ]
  },
  {
   "cell_type": "code",
   "execution_count": null,
   "metadata": {
    "collapsed": true
   },
   "outputs": [],
   "source": []
  }
 ],
 "metadata": {
  "kernelspec": {
   "display_name": "Python 3",
   "language": "python",
   "name": "python3"
  },
  "language_info": {
   "codemirror_mode": {
    "name": "ipython",
    "version": 3
   },
   "file_extension": ".py",
   "mimetype": "text/x-python",
   "name": "python",
   "nbconvert_exporter": "python",
   "pygments_lexer": "ipython3",
   "version": "3.5.2"
  }
 },
 "nbformat": 4,
 "nbformat_minor": 1
}
